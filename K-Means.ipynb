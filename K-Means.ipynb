{
 "cells": [
  {
   "cell_type": "markdown",
   "metadata": {},
   "source": [
    "# Thierry Khamphousone \n",
    "### DataCamp Python - 01/12/2020"
   ]
  },
  {
   "cell_type": "markdown",
   "metadata": {},
   "source": [
    "# K-means"
   ]
  },
  {
   "cell_type": "markdown",
   "metadata": {},
   "source": [
    "## Algo\n",
    "1. Define ```k``` and ```max_iter``` (maximum number of_iterations)\n",
    "2. Compute *k* random centroids\n",
    "3. Until max number of iterations not reached:\n",
    "    - Assign to each training sample its nearest centroid\n",
    "    - Udpate centroid coordinates"
   ]
  },
  {
   "cell_type": "code",
   "execution_count": 11,
   "metadata": {},
   "outputs": [],
   "source": [
    "import numpy as np\n",
    "from sklearn.neighbors import KNeighborsClassifier"
   ]
  },
  {
   "cell_type": "code",
   "execution_count": 12,
   "metadata": {},
   "outputs": [],
   "source": [
    "def distance_euclidienne(pt1, pt2):\n",
    "    '''\n",
    "    Euclidian distance between two points\n",
    "    '''\n",
    "    \n",
    "    if not isinstance(pt1, np.ndarray) and not isinstance(pt2, np.ndarray):\n",
    "        raise TypeError(\"inputs must be np.ndarray\")\n",
    "    if(len(pt1)!=len(pt2)):\n",
    "        raise ValueError(\"inputs must have the same dimension\")\n",
    "    else:\n",
    "        return np.sqrt(np.sum((pt1 - pt2)**2))"
   ]
  },
  {
   "cell_type": "code",
   "execution_count": 13,
   "metadata": {},
   "outputs": [],
   "source": [
    "class myKnn:\n",
    "    def __init__(self):\n",
    "        self.train = None\n",
    "        self.labels = None\n",
    "        \n",
    "    def apprentissage(self, X, y):\n",
    "        '''\n",
    "        lazy\n",
    "        '''\n",
    "        self.train = X\n",
    "        self.labels = y\n",
    "        \n",
    "    def predict(self, X):\n",
    "        predictions = []\n",
    "        \n",
    "        for test_sample in X:\n",
    "            distances = []\n",
    "            for train_sample in self.train:\n",
    "                distances.append(distance_euclidienne(test_sample, train_sample))\n",
    "            nearest_train_samples = np.argsort(distances)\n",
    "        \n",
    "            nearest_classes = []\n",
    "        \n",
    "            nearest_classes.append(self.labels[nearest_train_samples[0]])\n",
    "            predictions.append(nearest_classes[0])\n",
    "       \n",
    "        return np.array(predictions)"
   ]
  },
  {
   "cell_type": "code",
   "execution_count": 62,
   "metadata": {},
   "outputs": [],
   "source": [
    "class MyKmeans:\n",
    "    '''\n",
    "    desc: Implementation of Kmeans algorithm\n",
    "    1.Define k and max_iter (maximum number of_iterations)\n",
    "    2.Compute k random centroids\n",
    "    3.Until max number of iterations not reached:\n",
    "        - Assign to each training sample its nearest centroid\n",
    "        - Udpate centroid coordinates\n",
    "    '''\n",
    "    def __init__(self, k, max_iter=100, verbose=False, random_state=42):\n",
    "        self.k = k\n",
    "        self.verbose = verbose\n",
    "        self.rs = random_state\n",
    "        self.centroids = None\n",
    "        self.max_iter = max_iter\n",
    "        self.labels = []\n",
    "        self.classes = None\n",
    "        self.inertia = None\n",
    "        \n",
    "        for c in range(self.k):\n",
    "            self.labels.append('cluster {}'.format(c+1))\n",
    "            \n",
    "        if verbose:\n",
    "            print('*****  Initialization of Kmeans with {} clusters  *****'.format(self.k))\n",
    "            print('\\tmax_iter: \\t', self.max_iter)\n",
    "            print('\\tlabels: \\t', self.labels)\n",
    "            print('\\trandom state: \\t', self.rs)\n",
    "            print('\\tverbose: \\t', self.verbose)                                 \n",
    "            print('******************************************************')\n",
    "    \n",
    "    def fit(self, X):\n",
    "        '''\n",
    "        desc: This function trains kmeans on X with k clusters\n",
    "            --> At the end, a label will be assigned to each sample of X and be stored in classes attribute\n",
    "        '''\n",
    "        # init centroids\n",
    "        # cf. init_centroids function for more information\n",
    "        ranges = []\n",
    "        for j in range(len(X.columns)): #pour chaque feature (columns)\n",
    "            ranges.append([X.min(0)[j], X.max(0)[j]])\n",
    "      \n",
    "        self.init_centroids(ranges)\n",
    "        \n",
    "        # until stopping criteria is reached ... : TODO\n",
    "        A = X.iloc[:,0:len(X.columns)].values #convert dataframe -> array of Xi [[feature1, feature2], [...], ...]\n",
    "        knn = myKnn()\n",
    "        \n",
    "        \n",
    "        flag = False #flag to exit the for loop behind if convergence\n",
    "        \n",
    "        for tour in range(self.max_iter):\n",
    "            # assign label to each sample\n",
    "            \n",
    "            knn.apprentissage(self.centroids, self.labels)\n",
    "            current_clusters = knn.predict(A) # here are stored the current nearest cluster of each sample in X\n",
    "                \n",
    "            # update centroids coordinates \n",
    "            \n",
    "            #initialisation de la liste de dataframes\n",
    "            initlist=[0] * len(X.columns)\n",
    "            new_centers = [pd.DataFrame([initlist])] * self.k\n",
    "            \n",
    "            #on retire la premiere ligne d'initialisation dans chacun des clusters\n",
    "            for i in range(self.k): #pour chaque cluster de la liste de clusters,\n",
    "                new_centers[i] = new_centers[0].iloc[1:,:] \n",
    "            \n",
    "            #on ajoute les points qui font parti d'un tel cluster dans la list de dataframe respectivement\n",
    "            for e in range(len(A)):\n",
    "                for j in range(len(self.labels)):\n",
    "                    if current_clusters[e] == self.labels[j]:\n",
    "                        new_centers[j]=new_centers[j].append(pd.DataFrame(A[e]).transpose()) \n",
    "            \n",
    "            \n",
    "            #parcours de la liste de DataFrame afin d'en faire leur moyenne respectivement\n",
    "            #on a maintenant une liste des moyennes de chaque cluster correspondant au nouveau centroïd \n",
    "            for r in range(len(new_centers)):\n",
    "                new_centers[r]=np.mean(new_centers[r], axis=0).values #convert Pandas Series to Numpy Arrays\n",
    "            \n",
    "            class_of_current_clusters = self.labels #different class of clusters\n",
    "            \n",
    "            \n",
    "            # looking for convergence\n",
    "        \n",
    "            count_true = 0 #on compte le nombre de clusters qui n'ont pas bougé\n",
    "            for m in range(len(self.centroids)):\n",
    "\n",
    "                if (self.centroids[m] == new_centers[m]).all():      #Test de sortie, si les centroids n'ont pas bougé\n",
    "                    count_true+=1\n",
    "                    if count_true == len(self.centroids): #si tous les clusters n'ont pas bougé\n",
    "                        flag = True\n",
    "                        break\n",
    "            \n",
    "            count_true = 0 #reset\n",
    "            \n",
    "            if flag == True:\n",
    "                break\n",
    "            \n",
    "            self.centroids = new_centers # updating old centroids with new ones \n",
    "            new_centers = [] #reinitilisation des futurs centroids\n",
    "            \n",
    "\n",
    "        self.classes = current_clusters # here are stored the nearest cluster of each sample in X\n",
    "        \n",
    "        #computing inertia\n",
    "        self.ssd(X)\n",
    "        self.predict(X)\n",
    "        \n",
    "        if self.verbose:\n",
    "            print('Model trained in {} iterations...'.format(tour+1))\n",
    "            print('Inertia : ', self.inertia)\n",
    "        \n",
    "        \n",
    "    def init_centroids(self, ranges):\n",
    "        '''\n",
    "        desc: Compute self.k random centroids defined within specified ranges\n",
    "        each row in ranges correspond to a feature\n",
    "        two columns in range (col1 : min value, col2 : max value)\n",
    "        '''\n",
    "        # Setting seed\n",
    "        np.random.seed(self.rs)\n",
    "        \n",
    "        # Computing k centroids\n",
    "        self.centroids = []\n",
    "        temp = []\n",
    "        for i in range(len(ranges)):\n",
    "                temp.append(list(np.random.uniform(ranges[i][0], ranges[i][1], self.k)))\n",
    "        temp = np.array(temp)\n",
    "        temp_inv = np.transpose(temp).tolist()\n",
    "        self.centroids = temp_inv\n",
    "        \n",
    "        #print(self.centroids)\n",
    "        # for self.k == 2 clusters\n",
    "        #            cluster 1 init                            cluster 2 init\n",
    "        #[[60.693894499378224, 72.7354062975177], [130.98714538200977, 59.66853145130959]]\n",
    "        #       feature 1      feature 2             feature 1     feature 2\n",
    "            \n",
    "        return self.centroids\n",
    "    \n",
    "    \n",
    "    def ssd(self, X):\n",
    "        '''\n",
    "        Compute sum of squared distances (inertia)\n",
    "        Used for elbow method\n",
    "        X (df) must be the same size as the trained model input X (df)\n",
    "        '''\n",
    "        \n",
    "        res=0\n",
    "        distances_each_cluster = [0] * self.k #liste des distances entre Xi et le centroids de chaque cluster i\n",
    "        A = X.iloc[:,0:len(X.columns)].values \n",
    "        \n",
    "        for e in range(len(A)): #pour toutes les données Xi\n",
    "            for j in range(len(self.labels)): #pour tous les clusters\n",
    "                if self.classes[e] == self.labels[j]: #si la donnée appartient à un tel cluster\n",
    "                    distances_each_cluster[j] += (distance_euclidienne(X.values[e], self.centroids[j])) ** 2\n",
    "        \n",
    "        for i in range(len(distances_each_cluster)):\n",
    "            res+=distances_each_cluster[i]\n",
    "        \n",
    "        self.inertia = res\n",
    "        \n",
    "    def predict(self,X):\n",
    "        '''\n",
    "        Assign the nearest cluster to each sample of X\n",
    "        Kmeans has to be trained before using this function\n",
    "        '''\n",
    "        predictions = self.classes\n",
    "        \n",
    "        return predictions"
   ]
  },
  {
   "cell_type": "markdown",
   "metadata": {},
   "source": [
    "## 1. Visualisation des données"
   ]
  },
  {
   "cell_type": "code",
   "execution_count": 7,
   "metadata": {},
   "outputs": [],
   "source": [
    "import numpy as np\n",
    "import pandas as pd\n",
    "import matplotlib.pyplot as plt\n",
    "from sklearn.model_selection import train_test_split"
   ]
  },
  {
   "cell_type": "markdown",
   "metadata": {},
   "source": [
    "__a) Charger la base de données (Customers_practice.csv).__"
   ]
  },
  {
   "cell_type": "code",
   "execution_count": 8,
   "metadata": {
    "scrolled": true
   },
   "outputs": [
    {
     "data": {
      "text/html": [
       "<div>\n",
       "<style scoped>\n",
       "    .dataframe tbody tr th:only-of-type {\n",
       "        vertical-align: middle;\n",
       "    }\n",
       "\n",
       "    .dataframe tbody tr th {\n",
       "        vertical-align: top;\n",
       "    }\n",
       "\n",
       "    .dataframe thead th {\n",
       "        text-align: right;\n",
       "    }\n",
       "</style>\n",
       "<table border=\"1\" class=\"dataframe\">\n",
       "  <thead>\n",
       "    <tr style=\"text-align: right;\">\n",
       "      <th></th>\n",
       "      <th>Annual_Income_(k$)</th>\n",
       "      <th>Spending_Score</th>\n",
       "    </tr>\n",
       "  </thead>\n",
       "  <tbody>\n",
       "    <tr>\n",
       "      <th>0</th>\n",
       "      <td>103</td>\n",
       "      <td>85</td>\n",
       "    </tr>\n",
       "    <tr>\n",
       "      <th>1</th>\n",
       "      <td>60</td>\n",
       "      <td>52</td>\n",
       "    </tr>\n",
       "    <tr>\n",
       "      <th>2</th>\n",
       "      <td>59</td>\n",
       "      <td>55</td>\n",
       "    </tr>\n",
       "    <tr>\n",
       "      <th>3</th>\n",
       "      <td>62</td>\n",
       "      <td>55</td>\n",
       "    </tr>\n",
       "    <tr>\n",
       "      <th>4</th>\n",
       "      <td>48</td>\n",
       "      <td>47</td>\n",
       "    </tr>\n",
       "    <tr>\n",
       "      <th>5</th>\n",
       "      <td>44</td>\n",
       "      <td>50</td>\n",
       "    </tr>\n",
       "    <tr>\n",
       "      <th>6</th>\n",
       "      <td>73</td>\n",
       "      <td>5</td>\n",
       "    </tr>\n",
       "    <tr>\n",
       "      <th>7</th>\n",
       "      <td>33</td>\n",
       "      <td>92</td>\n",
       "    </tr>\n",
       "    <tr>\n",
       "      <th>8</th>\n",
       "      <td>71</td>\n",
       "      <td>75</td>\n",
       "    </tr>\n",
       "    <tr>\n",
       "      <th>9</th>\n",
       "      <td>21</td>\n",
       "      <td>66</td>\n",
       "    </tr>\n",
       "  </tbody>\n",
       "</table>\n",
       "</div>"
      ],
      "text/plain": [
       "   Annual_Income_(k$)  Spending_Score\n",
       "0                 103              85\n",
       "1                  60              52\n",
       "2                  59              55\n",
       "3                  62              55\n",
       "4                  48              47\n",
       "5                  44              50\n",
       "6                  73               5\n",
       "7                  33              92\n",
       "8                  71              75\n",
       "9                  21              66"
      ]
     },
     "execution_count": 8,
     "metadata": {},
     "output_type": "execute_result"
    }
   ],
   "source": [
    "df = pd.read_csv('Customers_practice.csv')\n",
    "df.head(10)"
   ]
  },
  {
   "cell_type": "code",
   "execution_count": 7,
   "metadata": {},
   "outputs": [
    {
     "data": {
      "text/html": [
       "<div>\n",
       "<style scoped>\n",
       "    .dataframe tbody tr th:only-of-type {\n",
       "        vertical-align: middle;\n",
       "    }\n",
       "\n",
       "    .dataframe tbody tr th {\n",
       "        vertical-align: top;\n",
       "    }\n",
       "\n",
       "    .dataframe thead th {\n",
       "        text-align: right;\n",
       "    }\n",
       "</style>\n",
       "<table border=\"1\" class=\"dataframe\">\n",
       "  <thead>\n",
       "    <tr style=\"text-align: right;\">\n",
       "      <th></th>\n",
       "      <th>Annual_Income_(k$)</th>\n",
       "      <th>Spending_Score</th>\n",
       "    </tr>\n",
       "  </thead>\n",
       "  <tbody>\n",
       "    <tr>\n",
       "      <th>count</th>\n",
       "      <td>170.000000</td>\n",
       "      <td>170.000000</td>\n",
       "    </tr>\n",
       "    <tr>\n",
       "      <th>mean</th>\n",
       "      <td>60.988235</td>\n",
       "      <td>50.141176</td>\n",
       "    </tr>\n",
       "    <tr>\n",
       "      <th>std</th>\n",
       "      <td>26.457958</td>\n",
       "      <td>25.944708</td>\n",
       "    </tr>\n",
       "    <tr>\n",
       "      <th>min</th>\n",
       "      <td>15.000000</td>\n",
       "      <td>1.000000</td>\n",
       "    </tr>\n",
       "    <tr>\n",
       "      <th>25%</th>\n",
       "      <td>42.250000</td>\n",
       "      <td>34.250000</td>\n",
       "    </tr>\n",
       "    <tr>\n",
       "      <th>50%</th>\n",
       "      <td>61.500000</td>\n",
       "      <td>50.000000</td>\n",
       "    </tr>\n",
       "    <tr>\n",
       "      <th>75%</th>\n",
       "      <td>78.000000</td>\n",
       "      <td>73.000000</td>\n",
       "    </tr>\n",
       "    <tr>\n",
       "      <th>max</th>\n",
       "      <td>137.000000</td>\n",
       "      <td>99.000000</td>\n",
       "    </tr>\n",
       "  </tbody>\n",
       "</table>\n",
       "</div>"
      ],
      "text/plain": [
       "       Annual_Income_(k$)  Spending_Score\n",
       "count          170.000000      170.000000\n",
       "mean            60.988235       50.141176\n",
       "std             26.457958       25.944708\n",
       "min             15.000000        1.000000\n",
       "25%             42.250000       34.250000\n",
       "50%             61.500000       50.000000\n",
       "75%             78.000000       73.000000\n",
       "max            137.000000       99.000000"
      ]
     },
     "execution_count": 7,
     "metadata": {},
     "output_type": "execute_result"
    }
   ],
   "source": [
    "df.describe()"
   ]
  },
  {
   "cell_type": "markdown",
   "metadata": {},
   "source": [
    "__b) Afficher les 10 premières lignes du jeu de données (fonction head()). Déterminer le\n",
    "nombre d’exemples, ainsi que le nombre de features pour ce problème.__"
   ]
  },
  {
   "cell_type": "markdown",
   "metadata": {},
   "source": [
    "Nombre d'exemple : 170\n",
    "Nombre de features : 2"
   ]
  },
  {
   "cell_type": "code",
   "execution_count": 5,
   "metadata": {},
   "outputs": [],
   "source": [
    "import seaborn as sns\n",
    "sns.set()"
   ]
  },
  {
   "cell_type": "code",
   "execution_count": 9,
   "metadata": {},
   "outputs": [
    {
     "data": {
      "text/plain": [
       "170"
      ]
     },
     "execution_count": 9,
     "metadata": {},
     "output_type": "execute_result"
    }
   ],
   "source": [
    "len(df.iloc[:,0].values)"
   ]
  },
  {
   "cell_type": "markdown",
   "metadata": {},
   "source": [
    "__c) Afficher les données à l’aide d’un scatterplot (utiliser la librairie seaborn ou matplotlib). Vous devriez obtenir un graphe similaire à celui-ci (penser à la légende et au titre) :__"
   ]
  },
  {
   "cell_type": "code",
   "execution_count": 10,
   "metadata": {},
   "outputs": [
    {
     "data": {
      "image/png": "[encoded data removed]",
      "text/plain": [
       "<Figure size 432x288 with 1 Axes>"
      ]
     },
     "metadata": {},
     "output_type": "display_data"
    }
   ],
   "source": [
    "sns.scatterplot(df.iloc[:,0].values, df.iloc[:,1].values, hue=['Unknown']*len(df), s=35)\n",
    "plt.xlabel('Annual_Income_(k$)')\n",
    "plt.ylabel('Spending_Score')\n",
    "plt.title('Dataset')\n",
    "plt.show()"
   ]
  },
  {
   "cell_type": "markdown",
   "metadata": {},
   "source": [
    "## 2. K-means algorithm"
   ]
  },
  {
   "cell_type": "markdown",
   "metadata": {},
   "source": [
    "__a) Tester votre kmeans avec k=3, random_state=42. Utiliser la fonction fit() sur le dataset. Vous pouvez utiliser tout l’ensemble de données étant donné qu’il n’y a pas de labels.__"
   ]
  },
  {
   "cell_type": "code",
   "execution_count": 63,
   "metadata": {
    "scrolled": true
   },
   "outputs": [
    {
     "name": "stdout",
     "output_type": "stream",
     "text": [
      "*****  Initialization of Kmeans with 3 clusters  *****\n",
      "\tmax_iter: \t 100\n",
      "\tlabels: \t ['cluster 1', 'cluster 2', 'cluster 3']\n",
      "\trandom state: \t 42\n",
      "\tverbose: \t True\n",
      "******************************************************\n"
     ]
    }
   ],
   "source": [
    "kmean = MyKmeans(3, 100, True, 42)"
   ]
  },
  {
   "cell_type": "code",
   "execution_count": 64,
   "metadata": {
    "scrolled": true
   },
   "outputs": [
    {
     "name": "stdout",
     "output_type": "stream",
     "text": [
      "Model trained in 6 iterations...\n",
      "Inertia :  91570.07313519815\n"
     ]
    }
   ],
   "source": [
    "kmean.fit(df)"
   ]
  },
  {
   "cell_type": "markdown",
   "metadata": {},
   "source": [
    "__b) Une fois le modèle entraîné vous pouvez accéder aux labels assignés aux données avec l’attribut classes.__"
   ]
  },
  {
   "cell_type": "code",
   "execution_count": 65,
   "metadata": {},
   "outputs": [],
   "source": [
    "#print(kmean.classes)"
   ]
  },
  {
   "cell_type": "markdown",
   "metadata": {},
   "source": [
    "__c) Vous pouvez également accéder aux centroïdes (attribut centroids). Utiliser la fonction print() pour les afficher.__"
   ]
  },
  {
   "cell_type": "code",
   "execution_count": 66,
   "metadata": {},
   "outputs": [
    {
     "name": "stdout",
     "output_type": "stream",
     "text": [
      "[array([44.35576923, 49.63461538]), array([86.84848485, 82.63636364]), array([87.54545455, 19.24242424])]\n"
     ]
    }
   ],
   "source": [
    "print(kmean.centroids)"
   ]
  },
  {
   "cell_type": "markdown",
   "metadata": {},
   "source": [
    "__d) Utiliser de nouveau la function scatterplot mais cette fois utilisez les labels fournis par votre kmeans entraîné pour distinguer les différents clusters :__"
   ]
  },
  {
   "cell_type": "code",
   "execution_count": 67,
   "metadata": {},
   "outputs": [
    {
     "data": {
      "image/png": "[encoded data removed]",
      "text/plain": [
       "<Figure size 432x288 with 1 Axes>"
      ]
     },
     "metadata": {},
     "output_type": "display_data"
    }
   ],
   "source": [
    "sns.set_palette(['green', 'blue', 'yellow'])\n",
    "sns.scatterplot(df.iloc[:,0].values, df.iloc[:,1].values, hue=kmean.classes, s=35)\n",
    "plt.xlabel('Annual_Income_(k$)')\n",
    "plt.ylabel('Spending_Score')\n",
    "plt.title('Kmeans = {}'.format(kmean.k))\n",
    "plt.show()"
   ]
  },
  {
   "cell_type": "markdown",
   "metadata": {},
   "source": [
    "__e) Expliquer pourquoi k=3 ne semble pas approprié comme nombre correct de clusters.__"
   ]
  },
  {
   "cell_type": "markdown",
   "metadata": {},
   "source": [
    "k=3 ne semble pas approprié comme nombre de correct de cluster car sur le scatterplot, il semble y avoir plus de 3 clusters.\n",
    "\n",
    "J'estime qu'un nombre de cluster k = 5 serait plus approprié comme nombre correct de clusters. "
   ]
  },
  {
   "cell_type": "markdown",
   "metadata": {},
   "source": [
    "__f) Trouver un moyen d’afficher également les centroïdes comme ci-dessous :__"
   ]
  },
  {
   "cell_type": "code",
   "execution_count": 68,
   "metadata": {
    "scrolled": true
   },
   "outputs": [
    {
     "data": {
      "image/png": "[encoded data removed]",
      "text/plain": [
       "<Figure size 432x288 with 1 Axes>"
      ]
     },
     "metadata": {},
     "output_type": "display_data"
    }
   ],
   "source": [
    "sns.set_palette(['green', 'blue', 'yellow'])\n",
    "sns.scatterplot(df.iloc[:,0].values, df.iloc[:,1].values, hue=kmean.classes, s=35)\n",
    "\n",
    "sns.set_palette(['red'])\n",
    "sns.scatterplot(pd.DataFrame(kmean.centroids).iloc[:,0], pd.DataFrame(kmean.centroids).iloc[:,1], hue=['Centroids']*len(kmean.centroids), s=50)\n",
    "plt.xlabel('Annual_Income_(k$)')\n",
    "plt.ylabel('Spending_Score')\n",
    "plt.title('Kmeans = {}'.format(kmean.k))\n",
    "\n",
    "plt.show()"
   ]
  },
  {
   "cell_type": "markdown",
   "metadata": {},
   "source": [
    "## 3. Trouver la valeur optimale de k"
   ]
  },
  {
   "cell_type": "markdown",
   "metadata": {},
   "source": [
    "__Implémenter la function ssd (sum of squared distances) dans votre classe kmeans.__"
   ]
  },
  {
   "cell_type": "markdown",
   "metadata": {},
   "source": [
    "Voir la fonction ssd de la classe Kmean"
   ]
  },
  {
   "cell_type": "markdown",
   "metadata": {},
   "source": [
    "__a) En utilisant la base de données complète :__\n",
    "\n",
    "__-Trouver la valeur optimale de k en utilisant la méthode du coude (utiliser l’intervalle suivant : [1,21[ ).__"
   ]
  },
  {
   "cell_type": "code",
   "execution_count": 17,
   "metadata": {},
   "outputs": [
    {
     "name": "stdout",
     "output_type": "stream",
     "text": [
      "1 2 3 4 5 6 7 8 9 10 11 12 13 14 15 16 17 18 19 20 "
     ]
    }
   ],
   "source": [
    "inertia_k = []\n",
    "current_min_inertia = 99999999\n",
    "\n",
    "for i in range(1,21):\n",
    "    for j in range(10,50):\n",
    "        kmean = MyKmeans(i, 100, False, j)\n",
    "        kmean.fit(df)\n",
    "        if kmean.inertia < current_min_inertia:\n",
    "            current_min_inertia = kmean.inertia\n",
    "    inertia_k.append(current_min_inertia)\n",
    "    current_min_inertia = 99999999\n",
    "    print(i, end=\" \")"
   ]
  },
  {
   "cell_type": "code",
   "execution_count": 25,
   "metadata": {},
   "outputs": [
    {
     "name": "stdout",
     "output_type": "stream",
     "text": [
      "[232062.5882352941, 157029.66625121172, 91570.07313519815, 63536.39984989211, 38565.488856528675, 31553.501372997707, 25013.401581605533, 20836.81333680453, 18537.689061669324, 16496.21255957665, 14778.660199542554, 13293.566459031166, 12010.262677368064, 11086.313095238096, 11315.670180799594, 9235.262177528353, 9353.648349330408, 7791.658088235294, 7862.484110791171, 7214.725968933028]\n"
     ]
    }
   ],
   "source": [
    "print(inertia_k)"
   ]
  },
  {
   "cell_type": "markdown",
   "metadata": {},
   "source": [
    "__- Dessiner la courbe obtenue (graphe attendu ci-dessous):__"
   ]
  },
  {
   "cell_type": "code",
   "execution_count": 26,
   "metadata": {},
   "outputs": [],
   "source": [
    "import matplotlib.pyplot as plt"
   ]
  },
  {
   "cell_type": "code",
   "execution_count": 115,
   "metadata": {},
   "outputs": [
    {
     "data": {
      "image/png": "[encoded data removed]",
      "text/plain": [
       "<Figure size 432x288 with 1 Axes>"
      ]
     },
     "metadata": {},
     "output_type": "display_data"
    }
   ],
   "source": [
    "plt.plot(inertia_k);\n",
    "plt.title('The Elbow Method')\n",
    "plt.ylabel('Sum of squared distances')\n",
    "plt.xlabel('Values of k+1')\n",
    "plt.margins(x=0.05, y=0.05) \n",
    "plt.xticks(np.arange(0, 21, 1.0));"
   ]
  },
  {
   "cell_type": "markdown",
   "metadata": {},
   "source": [
    "__-Conclure sur la meilleure valeur pour k.__"
   ]
  },
  {
   "cell_type": "markdown",
   "metadata": {},
   "source": [
    "La meilleure valeur pour k correspond à un changement important de la pente de la courbe avant qu'elle devienne quasi constante.\n",
    "\n",
    "Ici, pour moi, __la meilleure valeur de k correspondrait à k = 5.__\n",
    "\n",
    "__En effet le graphe débute à k + 1 = 1, soit 0 + 1 = 1__\n"
   ]
  },
  {
   "cell_type": "markdown",
   "metadata": {},
   "source": [
    "__b) Entraîner votre kmeans avec le k optimal trouvé précédemment :__\n",
    "\n",
    "__- random_state=42__\n",
    "\n",
    "__- Dessiner le scatterplot associé__\n",
    "\n",
    "__- Observer et décrire les clusters obtenus en fonction des axes (e.g. le cluster 1 représente les clients ayant des revenus faibles mais réalisant un grand nombre de transactions)__"
   ]
  },
  {
   "cell_type": "code",
   "execution_count": 9,
   "metadata": {},
   "outputs": [
    {
     "name": "stdout",
     "output_type": "stream",
     "text": [
      "*****  Initialization of Kmeans with 5 clusters  *****\n",
      "\tmax_iter: \t 100\n",
      "\tlabels: \t ['cluster 1', 'cluster 2', 'cluster 3', 'cluster 4', 'cluster 5']\n",
      "\trandom state: \t 42\n",
      "\tverbose: \t True\n",
      "******************************************************\n"
     ]
    }
   ],
   "source": [
    "best_kmean = MyKmeans(5, 100, True, 42)"
   ]
  },
  {
   "cell_type": "code",
   "execution_count": 15,
   "metadata": {},
   "outputs": [
    {
     "name": "stdout",
     "output_type": "stream",
     "text": [
      "Model trained in 9 iterations...\n",
      "Inertia :  38565.488856528675\n"
     ]
    }
   ],
   "source": [
    "best_kmean.fit(df)"
   ]
  },
  {
   "cell_type": "code",
   "execution_count": 18,
   "metadata": {
    "scrolled": true
   },
   "outputs": [
    {
     "data": {
      "image/png": "[encoded data removed]",
      "text/plain": [
       "<Figure size 432x288 with 1 Axes>"
      ]
     },
     "metadata": {},
     "output_type": "display_data"
    }
   ],
   "source": [
    "sns.set_palette(['green', 'blue', 'yellow'])\n",
    "sns.scatterplot(df.iloc[:,0].values, df.iloc[:,1].values, hue=best_kmean.classes, s=35)\n",
    "\n",
    "sns.set_palette(['red'])\n",
    "sns.scatterplot(pd.DataFrame(best_kmean.centroids).iloc[:,0], pd.DataFrame(best_kmean.centroids).iloc[:,1], hue=['Centroids']*len(best_kmean.centroids), s=50)\n",
    "\n",
    "plt.xlabel('Annual_Income_(k$)')\n",
    "plt.ylabel('Spending_Score')\n",
    "plt.title('Kmeans = {}'.format(best_kmean.k))\n",
    "plt.show()"
   ]
  },
  {
   "cell_type": "markdown",
   "metadata": {},
   "source": [
    "__- Le cluster 1__ représente les clients ayant des __revenus faibles__ et réalisant un __faible nombre de transactions__.\n",
    "\n",
    "__- Le cluster 2__ représente les clients ayant des __revenus élevés__ et réalisant un __faible nombre de transactions__.\n",
    "\n",
    "__- Le cluster 3__ représente les clients ayant des __revenus élevés__ et réalisant un __fort nombre de transactions__.\n",
    "\n",
    "__- Le cluster 4__ représente les clients ayant des __revenus modérés__ et réalisant un  __nombre de transactions modérés__.\n",
    "\n",
    "__- Le cluster 5__ représente les clients ayant des __revenus faibles__ et réalisant un __fort nombre de transaction__."
   ]
  },
  {
   "cell_type": "markdown",
   "metadata": {},
   "source": [
    "## 4. Pas de partie 4"
   ]
  },
  {
   "cell_type": "markdown",
   "metadata": {},
   "source": [
    "## 5 Aller plus loin"
   ]
  },
  {
   "cell_type": "markdown",
   "metadata": {},
   "source": [
    "__Charger les données (Customers_practice_test.csv).__"
   ]
  },
  {
   "cell_type": "code",
   "execution_count": 21,
   "metadata": {},
   "outputs": [
    {
     "data": {
      "text/html": [
       "<div>\n",
       "<style scoped>\n",
       "    .dataframe tbody tr th:only-of-type {\n",
       "        vertical-align: middle;\n",
       "    }\n",
       "\n",
       "    .dataframe tbody tr th {\n",
       "        vertical-align: top;\n",
       "    }\n",
       "\n",
       "    .dataframe thead th {\n",
       "        text-align: right;\n",
       "    }\n",
       "</style>\n",
       "<table border=\"1\" class=\"dataframe\">\n",
       "  <thead>\n",
       "    <tr style=\"text-align: right;\">\n",
       "      <th></th>\n",
       "      <th>Annual_Income_(k$)</th>\n",
       "      <th>Spending_Score</th>\n",
       "    </tr>\n",
       "  </thead>\n",
       "  <tbody>\n",
       "    <tr>\n",
       "      <th>0</th>\n",
       "      <td>62</td>\n",
       "      <td>42</td>\n",
       "    </tr>\n",
       "    <tr>\n",
       "      <th>1</th>\n",
       "      <td>19</td>\n",
       "      <td>3</td>\n",
       "    </tr>\n",
       "    <tr>\n",
       "      <th>2</th>\n",
       "      <td>48</td>\n",
       "      <td>50</td>\n",
       "    </tr>\n",
       "    <tr>\n",
       "      <th>3</th>\n",
       "      <td>87</td>\n",
       "      <td>75</td>\n",
       "    </tr>\n",
       "    <tr>\n",
       "      <th>4</th>\n",
       "      <td>88</td>\n",
       "      <td>69</td>\n",
       "    </tr>\n",
       "    <tr>\n",
       "      <th>5</th>\n",
       "      <td>67</td>\n",
       "      <td>57</td>\n",
       "    </tr>\n",
       "    <tr>\n",
       "      <th>6</th>\n",
       "      <td>20</td>\n",
       "      <td>77</td>\n",
       "    </tr>\n",
       "    <tr>\n",
       "      <th>7</th>\n",
       "      <td>29</td>\n",
       "      <td>87</td>\n",
       "    </tr>\n",
       "    <tr>\n",
       "      <th>8</th>\n",
       "      <td>69</td>\n",
       "      <td>91</td>\n",
       "    </tr>\n",
       "    <tr>\n",
       "      <th>9</th>\n",
       "      <td>101</td>\n",
       "      <td>68</td>\n",
       "    </tr>\n",
       "  </tbody>\n",
       "</table>\n",
       "</div>"
      ],
      "text/plain": [
       "   Annual_Income_(k$)  Spending_Score\n",
       "0                  62              42\n",
       "1                  19               3\n",
       "2                  48              50\n",
       "3                  87              75\n",
       "4                  88              69\n",
       "5                  67              57\n",
       "6                  20              77\n",
       "7                  29              87\n",
       "8                  69              91\n",
       "9                 101              68"
      ]
     },
     "execution_count": 21,
     "metadata": {},
     "output_type": "execute_result"
    }
   ],
   "source": [
    "dftest = pd.read_csv('Customers_practice_test.csv')"
   ]
  },
  {
   "cell_type": "code",
   "execution_count": 22,
   "metadata": {},
   "outputs": [
    {
     "data": {
      "text/html": [
       "<div>\n",
       "<style scoped>\n",
       "    .dataframe tbody tr th:only-of-type {\n",
       "        vertical-align: middle;\n",
       "    }\n",
       "\n",
       "    .dataframe tbody tr th {\n",
       "        vertical-align: top;\n",
       "    }\n",
       "\n",
       "    .dataframe thead th {\n",
       "        text-align: right;\n",
       "    }\n",
       "</style>\n",
       "<table border=\"1\" class=\"dataframe\">\n",
       "  <thead>\n",
       "    <tr style=\"text-align: right;\">\n",
       "      <th></th>\n",
       "      <th>Annual_Income_(k$)</th>\n",
       "      <th>Spending_Score</th>\n",
       "    </tr>\n",
       "  </thead>\n",
       "  <tbody>\n",
       "    <tr>\n",
       "      <th>0</th>\n",
       "      <td>62</td>\n",
       "      <td>42</td>\n",
       "    </tr>\n",
       "    <tr>\n",
       "      <th>1</th>\n",
       "      <td>19</td>\n",
       "      <td>3</td>\n",
       "    </tr>\n",
       "    <tr>\n",
       "      <th>2</th>\n",
       "      <td>48</td>\n",
       "      <td>50</td>\n",
       "    </tr>\n",
       "    <tr>\n",
       "      <th>3</th>\n",
       "      <td>87</td>\n",
       "      <td>75</td>\n",
       "    </tr>\n",
       "    <tr>\n",
       "      <th>4</th>\n",
       "      <td>88</td>\n",
       "      <td>69</td>\n",
       "    </tr>\n",
       "    <tr>\n",
       "      <th>5</th>\n",
       "      <td>67</td>\n",
       "      <td>57</td>\n",
       "    </tr>\n",
       "    <tr>\n",
       "      <th>6</th>\n",
       "      <td>20</td>\n",
       "      <td>77</td>\n",
       "    </tr>\n",
       "    <tr>\n",
       "      <th>7</th>\n",
       "      <td>29</td>\n",
       "      <td>87</td>\n",
       "    </tr>\n",
       "    <tr>\n",
       "      <th>8</th>\n",
       "      <td>69</td>\n",
       "      <td>91</td>\n",
       "    </tr>\n",
       "    <tr>\n",
       "      <th>9</th>\n",
       "      <td>101</td>\n",
       "      <td>68</td>\n",
       "    </tr>\n",
       "  </tbody>\n",
       "</table>\n",
       "</div>"
      ],
      "text/plain": [
       "   Annual_Income_(k$)  Spending_Score\n",
       "0                  62              42\n",
       "1                  19               3\n",
       "2                  48              50\n",
       "3                  87              75\n",
       "4                  88              69\n",
       "5                  67              57\n",
       "6                  20              77\n",
       "7                  29              87\n",
       "8                  69              91\n",
       "9                 101              68"
      ]
     },
     "execution_count": 22,
     "metadata": {},
     "output_type": "execute_result"
    }
   ],
   "source": [
    "dftest.head(10)"
   ]
  },
  {
   "cell_type": "code",
   "execution_count": 23,
   "metadata": {},
   "outputs": [
    {
     "data": {
      "text/plain": [
       "(30, 2)"
      ]
     },
     "execution_count": 23,
     "metadata": {},
     "output_type": "execute_result"
    }
   ],
   "source": [
    "dftest.shape"
   ]
  },
  {
   "cell_type": "markdown",
   "metadata": {},
   "source": [
    "__a) Utiliser votre kmeans qui a été entraîné avec le k optimal (trouvé dans la partie 4) afin de prédire une classe pour les exemples tests chargés.__"
   ]
  },
  {
   "cell_type": "code",
   "execution_count": 278,
   "metadata": {},
   "outputs": [
    {
     "name": "stdout",
     "output_type": "stream",
     "text": [
      "*****  Initialization of Kmeans with 5 clusters  *****\n",
      "\tmax_iter: \t 100\n",
      "\tlabels: \t ['cluster 1', 'cluster 2', 'cluster 3', 'cluster 4', 'cluster 5']\n",
      "\trandom state: \t 43\n",
      "\tverbose: \t True\n",
      "******************************************************\n",
      "Model trained in 5 iterations...\n",
      "Inertia :  5288.400000000001\n"
     ]
    }
   ],
   "source": [
    "km = MyKmeans(5, 100, True, 43)\n",
    "km.fit(dftest)"
   ]
  },
  {
   "cell_type": "code",
   "execution_count": 279,
   "metadata": {},
   "outputs": [
    {
     "data": {
      "image/png": "[encoded data removed]",
      "text/plain": [
       "<Figure size 432x288 with 1 Axes>"
      ]
     },
     "metadata": {},
     "output_type": "display_data"
    }
   ],
   "source": [
    "sns.set_palette(['green', 'blue', 'yellow'])\n",
    "sns.scatterplot(dftest.iloc[:,0].values, dftest.iloc[:,1].values, hue=km.classes, s=35)\n",
    "\n",
    "sns.set_palette(['red'])\n",
    "sns.scatterplot(pd.DataFrame(km.centroids).iloc[:,0], pd.DataFrame(km.centroids).iloc[:,1], hue=['Centroids']*len(km.centroids), s=50)\n",
    "\n",
    "plt.xlabel('Annual_Income_(k$)')\n",
    "plt.ylabel('Spending_Score')\n",
    "plt.title('Kmeans = {}'.format(km.k))\n",
    "plt.show()"
   ]
  },
  {
   "cell_type": "markdown",
   "metadata": {},
   "source": [
    "__a bis) Utiliser le kmeans de Sklearn afin de prédire une classe pour les exemples tests chargés.__"
   ]
  },
  {
   "cell_type": "code",
   "execution_count": 232,
   "metadata": {},
   "outputs": [],
   "source": [
    "kms = KMeans(n_clusters=5, random_state=43).fit(dftest)"
   ]
  },
  {
   "cell_type": "code",
   "execution_count": 233,
   "metadata": {},
   "outputs": [
    {
     "data": {
      "image/png": "[encoded data removed]",
      "text/plain": [
       "<Figure size 432x288 with 1 Axes>"
      ]
     },
     "metadata": {},
     "output_type": "display_data"
    }
   ],
   "source": [
    "sns.set_palette(['green', 'blue', 'yellow'])\n",
    "sns.scatterplot(dftest.iloc[:,0].values, dftest.iloc[:,1].values, hue=kms.labels_, s=35)\n",
    "\n",
    "sns.set_palette(['red'])\n",
    "sns.scatterplot(pd.DataFrame(kms.cluster_centers_).iloc[:,0], pd.DataFrame(kms.cluster_centers_).iloc[:,1], hue=['Centroids']*len(kms.cluster_centers_), s=50)\n",
    "\n",
    "plt.xlabel('Annual_Income_(k$)')\n",
    "plt.ylabel('Spending_Score')\n",
    "plt.title('Kmeans = {}'.format(kms.n_clusters))\n",
    "plt.show()"
   ]
  },
  {
   "cell_type": "markdown",
   "metadata": {},
   "source": [
    "__b) Utiliser la fonction save() pour générer le fichier resultats.csv__"
   ]
  },
  {
   "cell_type": "code",
   "execution_count": 274,
   "metadata": {},
   "outputs": [],
   "source": [
    "def save(predictions):\n",
    "    '''\n",
    "    predictions of kmeans\n",
    "    '''\n",
    "    column = ['prediction']\n",
    "    res_df = pd.DataFrame(predictions, columns=column)\n",
    "    print(res_df)\n",
    "    res_df.to_csv('resultats.csv', index=None)"
   ]
  },
  {
   "cell_type": "code",
   "execution_count": 275,
   "metadata": {
    "scrolled": true
   },
   "outputs": [
    {
     "name": "stdout",
     "output_type": "stream",
     "text": [
      "   prediction\n",
      "0   cluster 5\n",
      "1   cluster 3\n",
      "2   cluster 5\n",
      "3   cluster 2\n",
      "4   cluster 2\n",
      "5   cluster 5\n",
      "6   cluster 1\n",
      "7   cluster 1\n",
      "8   cluster 2\n",
      "9   cluster 2\n",
      "10  cluster 5\n",
      "11  cluster 5\n",
      "12  cluster 1\n",
      "13  cluster 5\n",
      "14  cluster 5\n",
      "15  cluster 2\n",
      "16  cluster 4\n",
      "17  cluster 3\n",
      "18  cluster 5\n",
      "19  cluster 4\n",
      "20  cluster 3\n",
      "21  cluster 5\n",
      "22  cluster 2\n",
      "23  cluster 4\n",
      "24  cluster 4\n",
      "25  cluster 5\n",
      "26  cluster 5\n",
      "27  cluster 3\n",
      "28  cluster 4\n",
      "29  cluster 5\n"
     ]
    }
   ],
   "source": [
    "save(km.classes) # execute the cell to generate resultats.csv"
   ]
  },
  {
   "cell_type": "markdown",
   "metadata": {},
   "source": [
    "__c) Dessiner les frontières de décisions (exemple ici avec k=3)__"
   ]
  },
  {
   "cell_type": "markdown",
   "metadata": {},
   "source": [
    "__[3:08 PM] GONZALEZ Jordan__\n",
    "> L'idée c'est de générer une grille de points dans l'espace de représentation de vos données. \n",
    "> Et chacun de ces points sera considéré comme une donnée test. \n",
    ">\n",
    "> Vous utilisez alors votre classifieur entrainé dessus pour prédire une classe pour chacun de ces points. \n",
    "> Et on plot le tout en les distingant selon leurs couleurs. \n",
    ">\n",
    "> Il y a des fonctions utiles comme contour et contourf. \n",
    "> Bon courage"
   ]
  },
  {
   "cell_type": "code",
   "execution_count": 316,
   "metadata": {},
   "outputs": [
    {
     "data": {
      "image/png": "[encoded data removed]",
      "text/plain": [
       "<Figure size 432x288 with 1 Axes>"
      ]
     },
     "metadata": {},
     "output_type": "display_data"
    }
   ],
   "source": [
    "sns.set_palette(['green', 'blue', 'yellow'])\n",
    "sns.scatterplot(dftest.iloc[:,0].values, dftest.iloc[:,1].values, hue=km.classes, s=35)\n",
    "\n",
    "sns.set_palette(['red'])\n",
    "sns.scatterplot(pd.DataFrame(km.centroids).iloc[:,0], pd.DataFrame(km.centroids).iloc[:,1], hue=['Centroids']*len(km.centroids), s=50)\n",
    "\n",
    "#for i in range(5):\n",
    "#    plt.contour(vb ==i, contours=1,colors=['b'])\n",
    "#plt.pcolormesh(dftest.iloc[:,0].values, dftest.iloc[:,1].values, km.classes)\n",
    "\n",
    "plt.xlabel('Annual_Income_(k$)')\n",
    "plt.ylabel('Spending_Score')\n",
    "plt.title('Kmeans = {}'.format(km.k))\n",
    "plt.show()"
   ]
  },
  {
   "cell_type": "markdown",
   "metadata": {},
   "source": [
    "# Discussion - M. Gonzalez"
   ]
  },
  {
   "cell_type": "markdown",
   "metadata": {},
   "source": [
    "__[1:49 PM] GONZALEZ Jordan__\n",
    "\n",
    "> avez-vous lancé le kmeans de sklearn et utlisé leur attribut (inertia_) pour dessiner aussi un elbow plot pour comparer ?\n",
    "    \n",
    "__[1:50 PM] GONZALEZ Jordan__\n",
    "\n",
    "> ça serait intéressant de voir ce que ça donne\n",
    "\n",
    "__[1:55 PM] GONZALEZ Jordan__\n",
    "\n",
    "> Lancer le sklearn kmeans et dessinez leur elbow plot pour comparer (dans la doc ça doit être inertia_ l'attribut permettant d'accéder au ssd). "
   ]
  },
  {
   "cell_type": "code",
   "execution_count": 108,
   "metadata": {},
   "outputs": [
    {
     "data": {
      "text/plain": [
       "38565.48885652868"
      ]
     },
     "execution_count": 108,
     "metadata": {},
     "output_type": "execute_result"
    }
   ],
   "source": [
    "from sklearn.cluster import KMeans\n",
    "import numpy as np\n",
    "\n",
    "kmeans = KMeans(n_clusters=5, random_state=42).fit(df.values)\n",
    "kmeans.cluster_centers_\n",
    "kmeans.inertia_"
   ]
  },
  {
   "cell_type": "markdown",
   "metadata": {},
   "source": [
    "J'obtiens ici le même résultat que mon KMeans"
   ]
  },
  {
   "cell_type": "code",
   "execution_count": 109,
   "metadata": {},
   "outputs": [
    {
     "name": "stdout",
     "output_type": "stream",
     "text": [
      "1 2 3 4 5 6 7 8 9 10 11 12 13 14 15 16 17 18 19 20 "
     ]
    }
   ],
   "source": [
    "inertia_k = []\n",
    "current_min_inertia = 99999999\n",
    "\n",
    "for i in range(1,21):\n",
    "    for j in range(42,43):\n",
    "        kmeans = KMeans(n_clusters=i, random_state=j).fit(df.values)\n",
    "        if kmeans.inertia_ < current_min_inertia:\n",
    "            current_min_inertia = kmeans.inertia_\n",
    "    inertia_k.append(current_min_inertia)\n",
    "    current_min_inertia = 99999999\n",
    "    print(i, end=\" \")"
   ]
  },
  {
   "cell_type": "code",
   "execution_count": 116,
   "metadata": {},
   "outputs": [
    {
     "data": {
      "image/png": "[encoded data removed]",
      "text/plain": [
       "<Figure size 432x288 with 1 Axes>"
      ]
     },
     "metadata": {},
     "output_type": "display_data"
    }
   ],
   "source": [
    "plt.plot(inertia_k);\n",
    "plt.title('The Elbow Method')\n",
    "plt.ylabel('Sum of squared distances')\n",
    "plt.xlabel('Values of k+1')\n",
    "plt.margins(x=0.05, y=0.05) \n",
    "plt.xticks(np.arange(0, 21, 1.0));"
   ]
  },
  {
   "cell_type": "markdown",
   "metadata": {},
   "source": [
    "J'obtiens ici le même coude qu'avec mon KMeans\n",
    "Le coude semble se placer au niveau de k = 5 qui est bien ce que j'ai obtenu avant"
   ]
  },
  {
   "cell_type": "markdown",
   "metadata": {},
   "source": [
    "__[1:55 PM] GONZALEZ Jordan__\n",
    "\n",
    "> Essayez également l'exercice suivant :\n",
    ">\n",
    "> - faites kmeans k=4 et calculer une valeur de calinski (chercher calinski harabz skleran sur le net), \n",
    ">\n",
    "> - faites également kmeans k=5 et calculer de nouveau une valeur de calinski. \n",
    ">\n",
    ">   (4,5 c'est finalement la zone d'indécision pour vous ici)"
   ]
  },
  {
   "cell_type": "markdown",
   "metadata": {},
   "source": [
    "## the Calinski-Harabasz index (sklearn.metrics.calinski_harabasz_score) \n",
    "#### - also known as the Variance Ratio Criterion \n",
    "#### - can be used to evaluate the model, where a higher Calinski-Harabasz score relates to a model with better defined clusters"
   ]
  },
  {
   "cell_type": "code",
   "execution_count": 123,
   "metadata": {},
   "outputs": [
    {
     "data": {
      "text/plain": [
       "146.7680853708524"
      ]
     },
     "execution_count": 123,
     "metadata": {},
     "output_type": "execute_result"
    }
   ],
   "source": [
    "import numpy as np\n",
    "from sklearn.cluster import KMeans\n",
    "from sklearn import metrics\n",
    "kmeans_model = KMeans(n_clusters=4, random_state=1).fit(df.values)\n",
    "labels = kmeans_model.labels_\n",
    "metrics.calinski_harabasz_score(df.values, labels)"
   ]
  },
  {
   "cell_type": "markdown",
   "metadata": {},
   "source": [
    "Pour __k=4__, j'obtiens un score de __Calinski Harabasz__ égal à __146.8__"
   ]
  },
  {
   "cell_type": "code",
   "execution_count": 125,
   "metadata": {},
   "outputs": [
    {
     "data": {
      "text/plain": [
       "206.96626922240762"
      ]
     },
     "execution_count": 125,
     "metadata": {},
     "output_type": "execute_result"
    }
   ],
   "source": [
    "kmeans_model = KMeans(n_clusters=5, random_state=1).fit(df.values)\n",
    "labels = kmeans_model.labels_\n",
    "metrics.calinski_harabasz_score(df.values, labels)"
   ]
  },
  {
   "cell_type": "markdown",
   "metadata": {},
   "source": [
    "Pour __k=5__, j'obtiens un score de __Calinski Harabasz__ égal à __206.97__"
   ]
  },
  {
   "cell_type": "code",
   "execution_count": 126,
   "metadata": {},
   "outputs": [
    {
     "data": {
      "text/plain": [
       "204.76687422904413"
      ]
     },
     "execution_count": 126,
     "metadata": {},
     "output_type": "execute_result"
    }
   ],
   "source": [
    "kmeans_model = KMeans(n_clusters=6, random_state=1).fit(df.values)\n",
    "labels = kmeans_model.labels_\n",
    "metrics.calinski_harabasz_score(df.values, labels)"
   ]
  },
  {
   "cell_type": "markdown",
   "metadata": {},
   "source": [
    "Pour __k=6__, j'obtiens un score de __Calinski Harabasz__ égal à __204.77__"
   ]
  },
  {
   "cell_type": "markdown",
   "metadata": {},
   "source": [
    "__Conlusion__\n",
    "\n",
    "On a bien __k=5 le nombre de cluster optimal__ pour notre model car __le score de Calinski-Harabasz évalué est le plus grand__ parmi k=4, k=5 et k=6."
   ]
  }
 ],
 "metadata": {
  "kernelspec": {
   "display_name": "Python 3",
   "language": "python",
   "name": "python3"
  },
  "language_info": {
   "codemirror_mode": {
    "name": "ipython",
    "version": 3
   },
   "file_extension": ".py",
   "mimetype": "text/x-python",
   "name": "python",
   "nbconvert_exporter": "python",
   "pygments_lexer": "ipython3",
   "version": "3.8.3"
  }
 },
 "nbformat": 4,
 "nbformat_minor": 2
}
